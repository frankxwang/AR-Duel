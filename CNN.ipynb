{
 "cells": [
  {
   "cell_type": "code",
   "execution_count": 4,
   "metadata": {
    "collapsed": true
   },
   "outputs": [],
   "source": [
    "### Importing ###\n",
    "from numpy import exp, array, random, dot #imports linear algebra operations/types\n",
    "import numpy as np #operations in numpy\n",
    "from scipy import misc #misc. operations in scipy\n",
    "import skimage\n",
    "import math \n",
    "from __future__ import with_statement"
   ]
  },
  {
   "cell_type": "code",
   "execution_count": 7,
   "metadata": {
    "collapsed": true
   },
   "outputs": [],
   "source": [
    "filters = []"
   ]
  },
  {
   "cell_type": "code",
   "execution_count": 8,
   "metadata": {
    "collapsed": false
   },
   "outputs": [],
   "source": [
    "### Helper functions ###\n",
    "#Activation function (Leaky ReLU)\n",
    "def activation(x, deriv=False, leak=-0.01):\n",
    "    new_x=np.copy(array(x)) #Create a copy of x\n",
    "    if deriv: #If you want to activate derivative\n",
    "        #Calculation of derivative of leaky ReLU\n",
    "        new_x[x > 0] = 1 \n",
    "        new_x[x <= 0] = leak\n",
    "        return new_x\n",
    "    #Calculation of leaky ReLU\n",
    "    new_x[x < 0] *= leak\n",
    "    new_x = x * (x > 0)\n",
    "    return new_x\n",
    "#Sum with no negatives (not used)\n",
    "'''\n",
    "def sumNoNeg(arr):\n",
    "    result = 0\n",
    "    for y in range(len(arr)):\n",
    "        for x in range(len(arr[0])):\n",
    "            result += max(arr[y][x],0)\n",
    "    return result\n",
    "'''\n",
    "#Apply cross-correlation for 1 index\n",
    "def apply(filterArr, filterSize, img, row, col):\n",
    "    value = 0 #Init value\n",
    "    halfFil = int(filterSize/2) #Half of filterSize\n",
    "    padImg = np.pad(img, [(halfFil,halfFil),(halfFil,halfFil)],'constant', constant_values=(0)) #Pad image with 0's\n",
    "    for x in range(filterSize): \n",
    "        for y in range(filterSize): #Apply over all filter\n",
    "            value += padImg[x+row][y+col]*filterArr[x][y] #Add image multiplied by filter\n",
    "    return value\n",
    "#Softmax function\n",
    "def softmax(x):\n",
    "#     exps = np.exp(x - x.max())\n",
    "#     return exps / np.sum(exps)\n",
    "    print(x)\n",
    "    return np.exp(x) / np.sum(np.exp(x), axis=0) #Calculate softmax\n",
    "def initFilters(num, size):\n",
    "    filters += 0.01*random.random((num, size, size))-0.005"
   ]
  },
  {
   "cell_type": "code",
   "execution_count": 11,
   "metadata": {
    "collapsed": true
   },
   "outputs": [],
   "source": [
    "### Apply filters ###\n",
    "def applyFilter(img, new_img, filterArr):\n",
    "    for y in range(len(img)):\n",
    "        for x in range(len(img[y])): #Apply over all image\n",
    "            new_img[y][x] += activation(apply(filterArr,img,y,x))#+bias#Add up all cross-correlations (with ReLU)\n",
    "    return new_img"
   ]
  },
  {
   "cell_type": "code",
   "execution_count": 12,
   "metadata": {
    "collapsed": false
   },
   "outputs": [],
   "source": [
    "def convolution(layer, layerNum, newLayerNum):\n",
    "    layerFilters = filters[layerNum]\n",
    "    outputLayer = []\n",
    "    for i in range(newLayerNum):\n",
    "        outputLayer.add(np.zeros((len(layer[layerNum]), len(layer[layerNum][0]))))\n",
    "        for j in range(layerNum):\n",
    "            applyFilter(i*newLayerNum)"
   ]
  },
  {
   "cell_type": "code",
   "execution_count": null,
   "metadata": {
    "collapsed": true
   },
   "outputs": [],
   "source": []
  }
 ],
 "metadata": {
  "kernelspec": {
   "display_name": "Python 3",
   "language": "python",
   "name": "python3"
  },
  "language_info": {
   "codemirror_mode": {
    "name": "ipython",
    "version": 3
   },
   "file_extension": ".py",
   "mimetype": "text/x-python",
   "name": "python",
   "nbconvert_exporter": "python",
   "pygments_lexer": "ipython3",
   "version": "3.6.0"
  }
 },
 "nbformat": 4,
 "nbformat_minor": 2
}
