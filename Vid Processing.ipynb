{
 "cells": [
  {
   "cell_type": "code",
   "execution_count": 14,
   "metadata": {
    "collapsed": false
   },
   "outputs": [],
   "source": [
    "import pylab\n",
    "import imageio\n",
    "from scipy import misc\n",
    "filename = 'data/IMG_2470.MOV'\n",
    "extension = \"\"\n",
    "vid = imageio.get_reader(filename,  'ffmpeg')\n",
    "nums = [10, 287]\n",
    "for i, im in enumerate(vid):\n",
    "    if i <= len(vid)*0.75:\n",
    "        extension = \"Training\"\n",
    "    else:\n",
    "        extension = \"Validation\"\n",
    "    misc.imsave(\"data/\"+extension+\"/Not People/IMG_House_\"+str(i).zfill(5)+\".jpg\", im)"
   ]
  },
  {
   "cell_type": "code",
   "execution_count": null,
   "metadata": {
    "collapsed": true
   },
   "outputs": [],
   "source": []
  }
 ],
 "metadata": {
  "kernelspec": {
   "display_name": "Python 3",
   "language": "python",
   "name": "python3"
  },
  "language_info": {
   "codemirror_mode": {
    "name": "ipython",
    "version": 3
   },
   "file_extension": ".py",
   "mimetype": "text/x-python",
   "name": "python",
   "nbconvert_exporter": "python",
   "pygments_lexer": "ipython3",
   "version": "3.6.0"
  }
 },
 "nbformat": 4,
 "nbformat_minor": 2
}
